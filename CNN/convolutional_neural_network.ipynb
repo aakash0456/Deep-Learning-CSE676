{
 "cells": [
  {
   "cell_type": "markdown",
   "metadata": {
    "colab_type": "text",
    "id": "3DR-eO17geWu"
   },
   "source": [
    "# Convolutional Neural Network"
   ]
  },
  {
   "cell_type": "markdown",
   "metadata": {
    "colab_type": "text",
    "id": "EMefrVPCg-60"
   },
   "source": [
    "### Importing the libraries"
   ]
  },
  {
   "cell_type": "code",
   "execution_count": 2,
   "metadata": {},
   "outputs": [],
   "source": [
    "import tensorflow as tf\n",
    "from keras.preprocessing.image import ImageDataGenerator\n"
   ]
  },
  {
   "cell_type": "code",
   "execution_count": 3,
   "metadata": {},
   "outputs": [
    {
     "data": {
      "text/plain": [
       "'2.6.0'"
      ]
     },
     "execution_count": 3,
     "metadata": {},
     "output_type": "execute_result"
    }
   ],
   "source": [
    "tf.__version__"
   ]
  },
  {
   "cell_type": "markdown",
   "metadata": {
    "colab_type": "text",
    "id": "oxQxCBWyoGPE"
   },
   "source": [
    "## Part 1 - Data Preprocessing"
   ]
  },
  {
   "cell_type": "markdown",
   "metadata": {
    "colab_type": "text",
    "id": "MvE-heJNo3GG"
   },
   "source": [
    "### Preprocessing the Training set"
   ]
  },
  {
   "cell_type": "code",
   "execution_count": 7,
   "metadata": {},
   "outputs": [
    {
     "name": "stdout",
     "output_type": "stream",
     "text": [
      "Found 8000 images belonging to 2 classes.\n"
     ]
    }
   ],
   "source": [
    "'''\n",
    "1. Rescale is used for feature scaling because CNN has a big calculation need to be rescaled.\n",
    "2. shear range and zoom range is used to protect from overfitting.\n",
    "'''\n",
    "train_datagen = ImageDataGenerator(rescale = 1./255,\n",
    "                                   shear_range = 0.2,\n",
    "                                   zoom_range = 0.2,\n",
    "                                   horizontal_flip = True)\n",
    "training_set = train_datagen.flow_from_directory('dataset/training_set',\n",
    "                                                 target_size = (64, 64),\n",
    "                                                 batch_size = 32,\n",
    "                                                 class_mode = 'binary')"
   ]
  },
  {
   "cell_type": "markdown",
   "metadata": {
    "colab_type": "text",
    "id": "mrCMmGw9pHys"
   },
   "source": [
    "### Preprocessing the Test set"
   ]
  },
  {
   "cell_type": "code",
   "execution_count": 9,
   "metadata": {},
   "outputs": [
    {
     "name": "stdout",
     "output_type": "stream",
     "text": [
      "Found 2000 images belonging to 2 classes.\n"
     ]
    }
   ],
   "source": [
    "test_datagen = ImageDataGenerator(rescale = 1./255)\n",
    "test_set = test_datagen.flow_from_directory('dataset/test_set',\n",
    "                                            target_size = (64, 64),\n",
    "                                            batch_size = 32,\n",
    "                                            class_mode = 'binary')"
   ]
  },
  {
   "cell_type": "markdown",
   "metadata": {
    "colab_type": "text",
    "id": "af8O4l90gk7B"
   },
   "source": [
    "## Part 2 - Building the CNN"
   ]
  },
  {
   "cell_type": "markdown",
   "metadata": {
    "colab_type": "text",
    "id": "ces1gXY2lmoX"
   },
   "source": [
    "### Initialising the CNN"
   ]
  },
  {
   "cell_type": "code",
   "execution_count": 11,
   "metadata": {},
   "outputs": [],
   "source": [
    "cnn = tf.keras.models.Sequential()"
   ]
  },
  {
   "cell_type": "markdown",
   "metadata": {
    "colab_type": "text",
    "id": "u5YJj_XMl5LF"
   },
   "source": [
    "### Step 1 - Convolution"
   ]
  },
  {
   "cell_type": "code",
   "execution_count": 14,
   "metadata": {},
   "outputs": [],
   "source": [
    "cnn.add(tf.keras.layers.Conv2D(filters=32, kernel_size=3, activation='relu', input_shape=[64,64,3]))"
   ]
  },
  {
   "cell_type": "markdown",
   "metadata": {
    "colab_type": "text",
    "id": "tf87FpvxmNOJ"
   },
   "source": [
    "### Step 2 - Pooling"
   ]
  },
  {
   "cell_type": "code",
   "execution_count": 15,
   "metadata": {},
   "outputs": [],
   "source": [
    "cnn.add(tf.keras.layers.MaxPool2D(pool_size=2, strides=2))"
   ]
  },
  {
   "cell_type": "markdown",
   "metadata": {
    "colab_type": "text",
    "id": "xaTOgD8rm4mU"
   },
   "source": [
    "### Adding a second convolutional layer"
   ]
  },
  {
   "cell_type": "code",
   "execution_count": 16,
   "metadata": {},
   "outputs": [],
   "source": [
    "cnn.add(tf.keras.layers.Conv2D(filters=32, kernel_size=3, activation='relu'))\n",
    "cnn.add(tf.keras.layers.MaxPool2D(pool_size=2, strides=2))"
   ]
  },
  {
   "cell_type": "markdown",
   "metadata": {
    "colab_type": "text",
    "id": "tmiEuvTunKfk"
   },
   "source": [
    "### Step 3 - Flattening"
   ]
  },
  {
   "cell_type": "code",
   "execution_count": 17,
   "metadata": {},
   "outputs": [],
   "source": [
    "cnn.add(tf.keras.layers.Flatten())"
   ]
  },
  {
   "cell_type": "markdown",
   "metadata": {
    "colab_type": "text",
    "id": "dAoSECOm203v"
   },
   "source": [
    "### Step 4 - Full Connection"
   ]
  },
  {
   "cell_type": "code",
   "execution_count": 19,
   "metadata": {},
   "outputs": [],
   "source": [
    "cnn.add(tf.keras.layers.Dense(units=128, activation='relu'))"
   ]
  },
  {
   "cell_type": "markdown",
   "metadata": {
    "colab_type": "text",
    "id": "yTldFvbX28Na"
   },
   "source": [
    "### Step 5 - Output Layer"
   ]
  },
  {
   "cell_type": "code",
   "execution_count": 20,
   "metadata": {},
   "outputs": [],
   "source": [
    "cnn.add(tf.keras.layers.Dense(units=1, activation='sigmoid'))"
   ]
  },
  {
   "cell_type": "markdown",
   "metadata": {
    "colab_type": "text",
    "id": "D6XkI90snSDl"
   },
   "source": [
    "## Part 3 - Training the CNN"
   ]
  },
  {
   "cell_type": "markdown",
   "metadata": {
    "colab_type": "text",
    "id": "vfrFQACEnc6i"
   },
   "source": [
    "### Compiling the CNN"
   ]
  },
  {
   "cell_type": "code",
   "execution_count": 22,
   "metadata": {},
   "outputs": [],
   "source": [
    "cnn.compile(optimizer='adam', loss='binary_crossentropy', metrics=['accuracy'])"
   ]
  },
  {
   "cell_type": "markdown",
   "metadata": {
    "colab_type": "text",
    "id": "ehS-v3MIpX2h"
   },
   "source": [
    "### Training the CNN on the Training set and evaluating it on the Test set"
   ]
  },
  {
   "cell_type": "code",
   "execution_count": 23,
   "metadata": {},
   "outputs": [
    {
     "name": "stdout",
     "output_type": "stream",
     "text": [
      "Epoch 1/25\n",
      "250/250 [==============================] - 776s 3s/step - loss: 0.6762 - accuracy: 0.5881 - val_loss: 0.6189 - val_accuracy: 0.6940\n",
      "Epoch 2/25\n",
      "250/250 [==============================] - 105s 420ms/step - loss: 0.5900 - accuracy: 0.6898 - val_loss: 0.5500 - val_accuracy: 0.7330\n",
      "Epoch 3/25\n",
      "250/250 [==============================] - 103s 409ms/step - loss: 0.5527 - accuracy: 0.7175 - val_loss: 0.5703 - val_accuracy: 0.7200\n",
      "Epoch 4/25\n",
      "250/250 [==============================] - 99s 395ms/step - loss: 0.5216 - accuracy: 0.7416 - val_loss: 0.5088 - val_accuracy: 0.7605\n",
      "Epoch 5/25\n",
      "250/250 [==============================] - 133s 530ms/step - loss: 0.4984 - accuracy: 0.7604 - val_loss: 0.4889 - val_accuracy: 0.7750\n",
      "Epoch 6/25\n",
      "250/250 [==============================] - 121s 485ms/step - loss: 0.4890 - accuracy: 0.7552 - val_loss: 0.5227 - val_accuracy: 0.7590\n",
      "Epoch 7/25\n",
      "250/250 [==============================] - 99s 396ms/step - loss: 0.4701 - accuracy: 0.7711 - val_loss: 0.4739 - val_accuracy: 0.7820\n",
      "Epoch 8/25\n",
      "250/250 [==============================] - 94s 375ms/step - loss: 0.4631 - accuracy: 0.7753 - val_loss: 0.4664 - val_accuracy: 0.7810\n",
      "Epoch 9/25\n",
      "250/250 [==============================] - 87s 348ms/step - loss: 0.4424 - accuracy: 0.7924 - val_loss: 0.4730 - val_accuracy: 0.7875\n",
      "Epoch 10/25\n",
      "250/250 [==============================] - 99s 397ms/step - loss: 0.4331 - accuracy: 0.8027 - val_loss: 0.4630 - val_accuracy: 0.7860\n",
      "Epoch 11/25\n",
      "250/250 [==============================] - 101s 406ms/step - loss: 0.4370 - accuracy: 0.7975 - val_loss: 0.4748 - val_accuracy: 0.7840\n",
      "Epoch 12/25\n",
      "250/250 [==============================] - 106s 422ms/step - loss: 0.4231 - accuracy: 0.8004 - val_loss: 0.4582 - val_accuracy: 0.7925\n",
      "Epoch 13/25\n",
      "250/250 [==============================] - 99s 397ms/step - loss: 0.4024 - accuracy: 0.8140 - val_loss: 0.4551 - val_accuracy: 0.7915\n",
      "Epoch 14/25\n",
      "250/250 [==============================] - 69s 275ms/step - loss: 0.4034 - accuracy: 0.8155 - val_loss: 0.4471 - val_accuracy: 0.8040\n",
      "Epoch 15/25\n",
      "250/250 [==============================] - 85s 340ms/step - loss: 0.3885 - accuracy: 0.8273 - val_loss: 0.4366 - val_accuracy: 0.8105\n",
      "Epoch 16/25\n",
      "250/250 [==============================] - 100s 402ms/step - loss: 0.3885 - accuracy: 0.8225 - val_loss: 0.4420 - val_accuracy: 0.8075\n",
      "Epoch 17/25\n",
      "250/250 [==============================] - 85s 339ms/step - loss: 0.3801 - accuracy: 0.8285 - val_loss: 0.4708 - val_accuracy: 0.7980\n",
      "Epoch 18/25\n",
      "250/250 [==============================] - 86s 345ms/step - loss: 0.3770 - accuracy: 0.8309 - val_loss: 0.4470 - val_accuracy: 0.8035\n",
      "Epoch 19/25\n",
      "250/250 [==============================] - 79s 315ms/step - loss: 0.3659 - accuracy: 0.8359 - val_loss: 0.4610 - val_accuracy: 0.7880\n",
      "Epoch 20/25\n",
      "250/250 [==============================] - 95s 378ms/step - loss: 0.3607 - accuracy: 0.8346 - val_loss: 0.4378 - val_accuracy: 0.8170\n",
      "Epoch 21/25\n",
      "250/250 [==============================] - 93s 373ms/step - loss: 0.3450 - accuracy: 0.8445 - val_loss: 0.4365 - val_accuracy: 0.8150\n",
      "Epoch 22/25\n",
      "250/250 [==============================] - 102s 407ms/step - loss: 0.3449 - accuracy: 0.8429 - val_loss: 0.4307 - val_accuracy: 0.8055\n",
      "Epoch 23/25\n",
      "250/250 [==============================] - 91s 365ms/step - loss: 0.3398 - accuracy: 0.8481 - val_loss: 0.4665 - val_accuracy: 0.8035\n",
      "Epoch 24/25\n",
      "250/250 [==============================] - 91s 364ms/step - loss: 0.3358 - accuracy: 0.8500 - val_loss: 0.4295 - val_accuracy: 0.8160\n",
      "Epoch 25/25\n",
      "250/250 [==============================] - 66s 263ms/step - loss: 0.3263 - accuracy: 0.8570 - val_loss: 0.4333 - val_accuracy: 0.8240\n"
     ]
    },
    {
     "data": {
      "text/plain": [
       "<keras.callbacks.History at 0x19eb7085250>"
      ]
     },
     "execution_count": 23,
     "metadata": {},
     "output_type": "execute_result"
    }
   ],
   "source": [
    "cnn.fit(x=training_set, validation_data = test_set, epochs = 25)"
   ]
  },
  {
   "cell_type": "markdown",
   "metadata": {
    "colab_type": "text",
    "id": "U3PZasO0006Z"
   },
   "source": [
    "## Part 4 - Making a single prediction"
   ]
  },
  {
   "cell_type": "code",
   "execution_count": 26,
   "metadata": {},
   "outputs": [],
   "source": [
    "import numpy as np\n",
    "from keras.preprocessing import image\n",
    "test_image = image.load_img('dataset/single_prediction/cat_or_dog_2.jpg', target_size = (64, 64))\n",
    "test_image = image.img_to_array(test_image)\n",
    "test_image = np.expand_dims(test_image, axis = 0)\n",
    "result = cnn.predict(test_image)\n",
    "training_set.class_indices\n",
    "result = cnn.predict(test_image/255.0)\n",
    "if result[0][0] > 0.5:\n",
    "  prediction = 'dog'\n",
    "else:\n",
    "  prediction = 'cat'"
   ]
  },
  {
   "cell_type": "code",
   "execution_count": 27,
   "metadata": {},
   "outputs": [
    {
     "name": "stdout",
     "output_type": "stream",
     "text": [
      "cat\n"
     ]
    }
   ],
   "source": [
    "print(prediction)"
   ]
  },
  {
   "cell_type": "code",
   "execution_count": null,
   "metadata": {},
   "outputs": [],
   "source": []
  }
 ],
 "metadata": {
  "colab": {
   "collapsed_sections": [],
   "name": "convolutional_neural_network.ipynb",
   "provenance": [],
   "toc_visible": true
  },
  "kernelspec": {
   "display_name": "Python 3 (ipykernel)",
   "language": "python",
   "name": "python3"
  },
  "language_info": {
   "codemirror_mode": {
    "name": "ipython",
    "version": 3
   },
   "file_extension": ".py",
   "mimetype": "text/x-python",
   "name": "python",
   "nbconvert_exporter": "python",
   "pygments_lexer": "ipython3",
   "version": "3.9.5"
  }
 },
 "nbformat": 4,
 "nbformat_minor": 1
}
