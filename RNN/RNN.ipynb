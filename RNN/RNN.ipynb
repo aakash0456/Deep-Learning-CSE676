{
  "cells": [
    {
      "cell_type": "markdown",
      "metadata": {
        "id": "xpAuMVCwfWs8"
      },
      "source": [
        "# Recurrent Neural Network"
      ]
    },
    {
      "cell_type": "markdown",
      "metadata": {
        "id": "nxJfRe4bfYVA"
      },
      "source": [
        "## Part 1 - Data Preprocessing"
      ]
    },
    {
      "cell_type": "markdown",
      "metadata": {
        "id": "ir9zwETrfbrp"
      },
      "source": [
        "### Importing the libraries"
      ]
    },
    {
      "cell_type": "code",
      "execution_count": 21,
      "metadata": {
        "id": "ZT1f24vHffuf"
      },
      "outputs": [],
      "source": [
        "import numpy as np\n",
        "import matplotlib.pyplot as plt\n",
        "import pandas as pd"
      ]
    },
    {
      "cell_type": "markdown",
      "metadata": {
        "id": "nQ47JAxrgmaL"
      },
      "source": [
        "### Importing the training set"
      ]
    },
    {
      "cell_type": "code",
      "execution_count": 22,
      "metadata": {
        "id": "ftnMweCFSZ6c"
      },
      "outputs": [],
      "source": [
        "dataset_train  =  pd.read_csv('/content/Google_Stock_Price_Train.csv')\n",
        "training_set = dataset_train.iloc[:, 1:2].values\n"
      ]
    },
    {
      "cell_type": "code",
      "execution_count": 23,
      "metadata": {
        "colab": {
          "base_uri": "https://localhost:8080/"
        },
        "id": "YQZDMlhsUaVf",
        "outputId": "5eafedde-2adb-483b-e4c1-2a43bda89720"
      },
      "outputs": [
        {
          "output_type": "stream",
          "name": "stdout",
          "text": [
            "[[325.25]\n",
            " [331.27]\n",
            " [329.83]\n",
            " ...\n",
            " [793.7 ]\n",
            " [783.33]\n",
            " [782.75]]\n",
            "(1258, 1)\n"
          ]
        }
      ],
      "source": [
        "print(training_set)\n",
        "print(training_set.shape)"
      ]
    },
    {
      "cell_type": "markdown",
      "metadata": {
        "id": "HT8_2UJegtG5"
      },
      "source": [
        "### Feature Scaling"
      ]
    },
    {
      "cell_type": "code",
      "execution_count": 24,
      "metadata": {
        "id": "I06S7V1FXXeE"
      },
      "outputs": [],
      "source": [
        "from sklearn.preprocessing import MinMaxScaler\n",
        "sc = MinMaxScaler(feature_range= (0,1))\n",
        "training_set_scaled = sc.fit_transform(training_set)"
      ]
    },
    {
      "cell_type": "code",
      "execution_count": 25,
      "metadata": {
        "colab": {
          "base_uri": "https://localhost:8080/"
        },
        "id": "PNT7ZOcxYIV8",
        "outputId": "5819a4d5-b2ef-4b3a-d447-af032deefe8a"
      },
      "outputs": [
        {
          "output_type": "stream",
          "name": "stdout",
          "text": [
            "[[0.08581368]\n",
            " [0.09701243]\n",
            " [0.09433366]\n",
            " ...\n",
            " [0.95725128]\n",
            " [0.93796041]\n",
            " [0.93688146]]\n"
          ]
        }
      ],
      "source": [
        "print(training_set_scaled)"
      ]
    },
    {
      "cell_type": "markdown",
      "metadata": {
        "id": "JyYgYocqhNUg"
      },
      "source": [
        "### Creating a data structure with 60 timesteps and 1 output"
      ]
    },
    {
      "cell_type": "code",
      "execution_count": 26,
      "metadata": {
        "id": "xxc4rW-4caK0"
      },
      "outputs": [],
      "source": [
        "'''Here we will train our model for 60 days and then predict he output for next days.\n",
        "We are doing this to protect our model from the overfitting'''\n",
        "X_train = []\n",
        "Y_train = []\n",
        "for i in range(60, 1258):\n",
        "  X_train.append(training_set_scaled[i-60:i,0])\n",
        "  Y_train.append(training_set_scaled[i,0])\n",
        "X_train, Y_train = np.array(X_train), np.array(Y_train)"
      ]
    },
    {
      "cell_type": "code",
      "execution_count": 27,
      "metadata": {
        "colab": {
          "base_uri": "https://localhost:8080/"
        },
        "id": "X5ymxsAKm2xU",
        "outputId": "4277c8ed-e037-458f-8222-b4ec75deb8b4"
      },
      "outputs": [
        {
          "output_type": "stream",
          "name": "stdout",
          "text": [
            "[[0.08581368 0.09701243 0.09433366 ... 0.07846566 0.08034452 0.08497656]\n",
            " [0.09701243 0.09433366 0.09156187 ... 0.08034452 0.08497656 0.08627874]\n",
            " [0.09433366 0.09156187 0.07984225 ... 0.08497656 0.08627874 0.08471612]\n",
            " ...\n",
            " [0.92106928 0.92438053 0.93048218 ... 0.95475854 0.95204256 0.95163331]\n",
            " [0.92438053 0.93048218 0.9299055  ... 0.95204256 0.95163331 0.95725128]\n",
            " [0.93048218 0.9299055  0.93113327 ... 0.95163331 0.95725128 0.93796041]]\n",
            "[0.08627874 0.08471612 0.07454052 ... 0.95725128 0.93796041 0.93688146]\n"
          ]
        }
      ],
      "source": [
        "print(X_train)\n",
        "print(Y_train)"
      ]
    },
    {
      "cell_type": "markdown",
      "metadata": {
        "id": "D8yaN7Zvi95l"
      },
      "source": [
        "### Reshaping"
      ]
    },
    {
      "cell_type": "code",
      "source": [
        "X_train = np.reshape(X_train, (X_train.shape[0], X_train.shape[1], 1))\n",
        "print(X_train)"
      ],
      "metadata": {
        "colab": {
          "base_uri": "https://localhost:8080/"
        },
        "id": "KFX5f5oXv51D",
        "outputId": "86dce5de-2cf0-4cc1-cfa9-dfa1290bd96b"
      },
      "execution_count": 28,
      "outputs": [
        {
          "output_type": "stream",
          "name": "stdout",
          "text": [
            "[[[0.08581368]\n",
            "  [0.09701243]\n",
            "  [0.09433366]\n",
            "  ...\n",
            "  [0.07846566]\n",
            "  [0.08034452]\n",
            "  [0.08497656]]\n",
            "\n",
            " [[0.09701243]\n",
            "  [0.09433366]\n",
            "  [0.09156187]\n",
            "  ...\n",
            "  [0.08034452]\n",
            "  [0.08497656]\n",
            "  [0.08627874]]\n",
            "\n",
            " [[0.09433366]\n",
            "  [0.09156187]\n",
            "  [0.07984225]\n",
            "  ...\n",
            "  [0.08497656]\n",
            "  [0.08627874]\n",
            "  [0.08471612]]\n",
            "\n",
            " ...\n",
            "\n",
            " [[0.92106928]\n",
            "  [0.92438053]\n",
            "  [0.93048218]\n",
            "  ...\n",
            "  [0.95475854]\n",
            "  [0.95204256]\n",
            "  [0.95163331]]\n",
            "\n",
            " [[0.92438053]\n",
            "  [0.93048218]\n",
            "  [0.9299055 ]\n",
            "  ...\n",
            "  [0.95204256]\n",
            "  [0.95163331]\n",
            "  [0.95725128]]\n",
            "\n",
            " [[0.93048218]\n",
            "  [0.9299055 ]\n",
            "  [0.93113327]\n",
            "  ...\n",
            "  [0.95163331]\n",
            "  [0.95725128]\n",
            "  [0.93796041]]]\n"
          ]
        }
      ]
    },
    {
      "cell_type": "markdown",
      "metadata": {
        "id": "ZRRSOJeVjEWV"
      },
      "source": [
        "## Part 2 - Building and Training the RNN"
      ]
    },
    {
      "cell_type": "markdown",
      "metadata": {
        "id": "k4XV88JMjHXG"
      },
      "source": [
        "### Importing the Keras libraries and packages"
      ]
    },
    {
      "cell_type": "code",
      "source": [
        "from keras.models import Sequential\n",
        "from keras.layers import Dense\n",
        "from keras.layers import LSTM\n",
        "from keras.layers import Dropout"
      ],
      "metadata": {
        "id": "4JkCUN-C3Sji"
      },
      "execution_count": 29,
      "outputs": []
    },
    {
      "cell_type": "markdown",
      "metadata": {
        "id": "FEIE-1s9jNzC"
      },
      "source": [
        "### Initialising the RNN"
      ]
    },
    {
      "cell_type": "code",
      "source": [
        "regressor = Sequential()"
      ],
      "metadata": {
        "id": "NSdDqIJs3UXr"
      },
      "execution_count": 30,
      "outputs": []
    },
    {
      "cell_type": "markdown",
      "metadata": {
        "id": "62eg1OPGjT8z"
      },
      "source": [
        "### Adding the first LSTM layer and some Dropout regularisation"
      ]
    },
    {
      "cell_type": "code",
      "source": [
        "regressor.add(LSTM(units = 50, return_sequences=True, input_shape = (X_train.shape[1],1)))\n",
        "regressor.add(Dropout(0.2))"
      ],
      "metadata": {
        "id": "rly4hFDy4FIl"
      },
      "execution_count": 31,
      "outputs": []
    },
    {
      "cell_type": "markdown",
      "metadata": {
        "id": "3XBIYLyOjlMx"
      },
      "source": [
        "### Adding a second LSTM layer and some Dropout regularisation"
      ]
    },
    {
      "cell_type": "code",
      "source": [
        "regressor.add(LSTM(units = 50, return_sequences=True))\n",
        "regressor.add(Dropout(0.2))"
      ],
      "metadata": {
        "id": "e9XCKzXH-JEf"
      },
      "execution_count": 32,
      "outputs": []
    },
    {
      "cell_type": "markdown",
      "metadata": {
        "id": "Ey3fHVnGj1cu"
      },
      "source": [
        "### Adding a third LSTM layer and some Dropout regularisation"
      ]
    },
    {
      "cell_type": "code",
      "source": [
        "regressor.add(LSTM(units = 50, return_sequences=True))\n",
        "regressor.add(Dropout(0.2))"
      ],
      "metadata": {
        "id": "dA7GGbBq-Kab"
      },
      "execution_count": 33,
      "outputs": []
    },
    {
      "cell_type": "markdown",
      "metadata": {
        "id": "SYTrtfTmj933"
      },
      "source": [
        "### Adding a fourth LSTM layer and some Dropout regularisation"
      ]
    },
    {
      "cell_type": "code",
      "source": [
        "regressor.add(LSTM(units = 50, return_sequences=False))\n",
        "regressor.add(Dropout(0.2))"
      ],
      "metadata": {
        "id": "mglsHg6M-Lbs"
      },
      "execution_count": 34,
      "outputs": []
    },
    {
      "cell_type": "markdown",
      "metadata": {
        "id": "9ABI6rOIkHhk"
      },
      "source": [
        "### Adding the output layer"
      ]
    },
    {
      "cell_type": "code",
      "source": [
        "regressor.add(Dense(units = 1))"
      ],
      "metadata": {
        "id": "-wqpLD8a_OFk"
      },
      "execution_count": 35,
      "outputs": []
    },
    {
      "cell_type": "markdown",
      "metadata": {
        "id": "zLx4K7uUkPSh"
      },
      "source": [
        "### Compiling the RNN"
      ]
    },
    {
      "cell_type": "code",
      "source": [
        "regressor.compile(optimizer='adam', loss='mean_squared_error')"
      ],
      "metadata": {
        "id": "yvIQ7-8_AVc6"
      },
      "execution_count": 36,
      "outputs": []
    },
    {
      "cell_type": "markdown",
      "metadata": {
        "id": "-mPhwKGkkebi"
      },
      "source": [
        "### Fitting the RNN to the Training set"
      ]
    },
    {
      "cell_type": "code",
      "source": [
        "regressor.fit(X_train, Y_train, epochs=100, batch_size=32)"
      ],
      "metadata": {
        "id": "_LlrFbmmB5s-",
        "colab": {
          "base_uri": "https://localhost:8080/"
        },
        "outputId": "876c8cea-8255-446e-94b8-abca792dd991"
      },
      "execution_count": 37,
      "outputs": [
        {
          "output_type": "stream",
          "name": "stdout",
          "text": [
            "Epoch 1/100\n",
            "38/38 [==============================] - 12s 122ms/step - loss: 0.0385\n",
            "Epoch 2/100\n",
            "38/38 [==============================] - 5s 120ms/step - loss: 0.0062\n",
            "Epoch 3/100\n",
            "38/38 [==============================] - 5s 123ms/step - loss: 0.0053\n",
            "Epoch 4/100\n",
            "38/38 [==============================] - 5s 119ms/step - loss: 0.0048\n",
            "Epoch 5/100\n",
            "38/38 [==============================] - 5s 121ms/step - loss: 0.0055\n",
            "Epoch 6/100\n",
            "38/38 [==============================] - 5s 121ms/step - loss: 0.0050\n",
            "Epoch 7/100\n",
            "38/38 [==============================] - 5s 119ms/step - loss: 0.0049\n",
            "Epoch 8/100\n",
            "38/38 [==============================] - 5s 120ms/step - loss: 0.0044\n",
            "Epoch 9/100\n",
            "38/38 [==============================] - 5s 121ms/step - loss: 0.0043\n",
            "Epoch 10/100\n",
            "38/38 [==============================] - 5s 123ms/step - loss: 0.0043\n",
            "Epoch 11/100\n",
            "38/38 [==============================] - 5s 121ms/step - loss: 0.0046\n",
            "Epoch 12/100\n",
            "38/38 [==============================] - 5s 124ms/step - loss: 0.0045\n",
            "Epoch 13/100\n",
            "38/38 [==============================] - 5s 121ms/step - loss: 0.0049\n",
            "Epoch 14/100\n",
            "38/38 [==============================] - 5s 121ms/step - loss: 0.0042\n",
            "Epoch 15/100\n",
            "38/38 [==============================] - 5s 120ms/step - loss: 0.0038\n",
            "Epoch 16/100\n",
            "38/38 [==============================] - 5s 120ms/step - loss: 0.0036\n",
            "Epoch 17/100\n",
            "38/38 [==============================] - 5s 123ms/step - loss: 0.0041\n",
            "Epoch 18/100\n",
            "38/38 [==============================] - 5s 121ms/step - loss: 0.0035\n",
            "Epoch 19/100\n",
            "38/38 [==============================] - 5s 120ms/step - loss: 0.0035\n",
            "Epoch 20/100\n",
            "38/38 [==============================] - 5s 120ms/step - loss: 0.0033\n",
            "Epoch 21/100\n",
            "38/38 [==============================] - 5s 139ms/step - loss: 0.0039\n",
            "Epoch 22/100\n",
            "38/38 [==============================] - 5s 120ms/step - loss: 0.0036\n",
            "Epoch 23/100\n",
            "38/38 [==============================] - 5s 121ms/step - loss: 0.0037\n",
            "Epoch 24/100\n",
            "38/38 [==============================] - 5s 141ms/step - loss: 0.0029\n",
            "Epoch 25/100\n",
            "38/38 [==============================] - 5s 122ms/step - loss: 0.0032\n",
            "Epoch 26/100\n",
            "38/38 [==============================] - 5s 122ms/step - loss: 0.0030\n",
            "Epoch 27/100\n",
            "38/38 [==============================] - 5s 122ms/step - loss: 0.0030\n",
            "Epoch 28/100\n",
            "38/38 [==============================] - 5s 121ms/step - loss: 0.0031\n",
            "Epoch 29/100\n",
            "38/38 [==============================] - 5s 120ms/step - loss: 0.0029\n",
            "Epoch 30/100\n",
            "38/38 [==============================] - 5s 119ms/step - loss: 0.0028\n",
            "Epoch 31/100\n",
            "38/38 [==============================] - 5s 119ms/step - loss: 0.0035\n",
            "Epoch 32/100\n",
            "38/38 [==============================] - 5s 119ms/step - loss: 0.0032\n",
            "Epoch 33/100\n",
            "38/38 [==============================] - 4s 118ms/step - loss: 0.0031\n",
            "Epoch 34/100\n",
            "38/38 [==============================] - 5s 121ms/step - loss: 0.0027\n",
            "Epoch 35/100\n",
            "38/38 [==============================] - 5s 120ms/step - loss: 0.0030\n",
            "Epoch 36/100\n",
            "38/38 [==============================] - 5s 119ms/step - loss: 0.0031\n",
            "Epoch 37/100\n",
            "38/38 [==============================] - 5s 121ms/step - loss: 0.0030\n",
            "Epoch 38/100\n",
            "38/38 [==============================] - 5s 120ms/step - loss: 0.0029\n",
            "Epoch 39/100\n",
            "38/38 [==============================] - 5s 120ms/step - loss: 0.0029\n",
            "Epoch 40/100\n",
            "38/38 [==============================] - 5s 119ms/step - loss: 0.0028\n",
            "Epoch 41/100\n",
            "38/38 [==============================] - 4s 117ms/step - loss: 0.0029\n",
            "Epoch 42/100\n",
            "38/38 [==============================] - 5s 118ms/step - loss: 0.0024\n",
            "Epoch 43/100\n",
            "38/38 [==============================] - 4s 118ms/step - loss: 0.0024\n",
            "Epoch 44/100\n",
            "38/38 [==============================] - 5s 120ms/step - loss: 0.0028\n",
            "Epoch 45/100\n",
            "38/38 [==============================] - 5s 121ms/step - loss: 0.0026\n",
            "Epoch 46/100\n",
            "38/38 [==============================] - 5s 123ms/step - loss: 0.0025\n",
            "Epoch 47/100\n",
            "38/38 [==============================] - 5s 122ms/step - loss: 0.0025\n",
            "Epoch 48/100\n",
            "38/38 [==============================] - 5s 120ms/step - loss: 0.0026\n",
            "Epoch 49/100\n",
            "38/38 [==============================] - 5s 120ms/step - loss: 0.0025\n",
            "Epoch 50/100\n",
            "38/38 [==============================] - 5s 120ms/step - loss: 0.0022\n",
            "Epoch 51/100\n",
            "38/38 [==============================] - 5s 121ms/step - loss: 0.0024\n",
            "Epoch 52/100\n",
            "38/38 [==============================] - 5s 119ms/step - loss: 0.0022\n",
            "Epoch 53/100\n",
            "38/38 [==============================] - 5s 119ms/step - loss: 0.0021\n",
            "Epoch 54/100\n",
            "38/38 [==============================] - 5s 121ms/step - loss: 0.0024\n",
            "Epoch 55/100\n",
            "38/38 [==============================] - 5s 119ms/step - loss: 0.0023\n",
            "Epoch 56/100\n",
            "38/38 [==============================] - 5s 120ms/step - loss: 0.0023\n",
            "Epoch 57/100\n",
            "38/38 [==============================] - 5s 122ms/step - loss: 0.0022\n",
            "Epoch 58/100\n",
            "38/38 [==============================] - 5s 121ms/step - loss: 0.0021\n",
            "Epoch 59/100\n",
            "38/38 [==============================] - 5s 118ms/step - loss: 0.0020\n",
            "Epoch 60/100\n",
            "38/38 [==============================] - 5s 120ms/step - loss: 0.0020\n",
            "Epoch 61/100\n",
            "38/38 [==============================] - 5s 120ms/step - loss: 0.0022\n",
            "Epoch 62/100\n",
            "38/38 [==============================] - 5s 119ms/step - loss: 0.0021\n",
            "Epoch 63/100\n",
            "38/38 [==============================] - 5s 121ms/step - loss: 0.0017\n",
            "Epoch 64/100\n",
            "38/38 [==============================] - 5s 120ms/step - loss: 0.0020\n",
            "Epoch 65/100\n",
            "38/38 [==============================] - 5s 120ms/step - loss: 0.0023\n",
            "Epoch 66/100\n",
            "38/38 [==============================] - 5s 120ms/step - loss: 0.0025\n",
            "Epoch 67/100\n",
            "38/38 [==============================] - 5s 122ms/step - loss: 0.0018\n",
            "Epoch 68/100\n",
            "38/38 [==============================] - 5s 120ms/step - loss: 0.0018\n",
            "Epoch 69/100\n",
            "38/38 [==============================] - 5s 119ms/step - loss: 0.0020\n",
            "Epoch 70/100\n",
            "38/38 [==============================] - 5s 121ms/step - loss: 0.0019\n",
            "Epoch 71/100\n",
            "38/38 [==============================] - 5s 120ms/step - loss: 0.0020\n",
            "Epoch 72/100\n",
            "38/38 [==============================] - 5s 119ms/step - loss: 0.0017\n",
            "Epoch 73/100\n",
            "38/38 [==============================] - 5s 121ms/step - loss: 0.0017\n",
            "Epoch 74/100\n",
            "38/38 [==============================] - 5s 122ms/step - loss: 0.0019\n",
            "Epoch 75/100\n",
            "38/38 [==============================] - 5s 124ms/step - loss: 0.0018\n",
            "Epoch 76/100\n",
            "38/38 [==============================] - 7s 189ms/step - loss: 0.0018\n",
            "Epoch 77/100\n",
            "38/38 [==============================] - 5s 120ms/step - loss: 0.0016\n",
            "Epoch 78/100\n",
            "38/38 [==============================] - 5s 120ms/step - loss: 0.0017\n",
            "Epoch 79/100\n",
            "38/38 [==============================] - 5s 120ms/step - loss: 0.0016\n",
            "Epoch 80/100\n",
            "38/38 [==============================] - 5s 119ms/step - loss: 0.0017\n",
            "Epoch 81/100\n",
            "38/38 [==============================] - 5s 119ms/step - loss: 0.0018\n",
            "Epoch 82/100\n",
            "38/38 [==============================] - 5s 121ms/step - loss: 0.0017\n",
            "Epoch 83/100\n",
            "38/38 [==============================] - 5s 121ms/step - loss: 0.0016\n",
            "Epoch 84/100\n",
            "38/38 [==============================] - 5s 120ms/step - loss: 0.0018\n",
            "Epoch 85/100\n",
            "38/38 [==============================] - 5s 121ms/step - loss: 0.0016\n",
            "Epoch 86/100\n",
            "38/38 [==============================] - 5s 121ms/step - loss: 0.0015\n",
            "Epoch 87/100\n",
            "38/38 [==============================] - 5s 121ms/step - loss: 0.0018\n",
            "Epoch 88/100\n",
            "38/38 [==============================] - 5s 120ms/step - loss: 0.0018\n",
            "Epoch 89/100\n",
            "38/38 [==============================] - 5s 122ms/step - loss: 0.0014\n",
            "Epoch 90/100\n",
            "38/38 [==============================] - 5s 121ms/step - loss: 0.0015\n",
            "Epoch 91/100\n",
            "38/38 [==============================] - 5s 121ms/step - loss: 0.0015\n",
            "Epoch 92/100\n",
            "38/38 [==============================] - 5s 121ms/step - loss: 0.0016\n",
            "Epoch 93/100\n",
            "38/38 [==============================] - 5s 123ms/step - loss: 0.0014\n",
            "Epoch 94/100\n",
            "38/38 [==============================] - 5s 122ms/step - loss: 0.0017\n",
            "Epoch 95/100\n",
            "38/38 [==============================] - 5s 123ms/step - loss: 0.0015\n",
            "Epoch 96/100\n",
            "38/38 [==============================] - 5s 122ms/step - loss: 0.0016\n",
            "Epoch 97/100\n",
            "38/38 [==============================] - 5s 121ms/step - loss: 0.0015\n",
            "Epoch 98/100\n",
            "38/38 [==============================] - 5s 121ms/step - loss: 0.0015\n",
            "Epoch 99/100\n",
            "38/38 [==============================] - 5s 121ms/step - loss: 0.0013\n",
            "Epoch 100/100\n",
            "38/38 [==============================] - 4s 118ms/step - loss: 0.0014\n"
          ]
        },
        {
          "output_type": "execute_result",
          "data": {
            "text/plain": [
              "<keras.callbacks.History at 0x7f99d1e69ad0>"
            ]
          },
          "metadata": {},
          "execution_count": 37
        }
      ]
    },
    {
      "cell_type": "markdown",
      "metadata": {
        "id": "4hRau_lIkrE8"
      },
      "source": [
        "## Part 3 - Making the predictions and visualising the results"
      ]
    },
    {
      "cell_type": "markdown",
      "metadata": {
        "id": "SgJO6qEDksxD"
      },
      "source": [
        "### Getting the real stock price of 2017"
      ]
    },
    {
      "cell_type": "code",
      "source": [
        "dataset_test  =  pd.read_csv('/content/Google_Stock_Price_Test.csv')\n",
        "real_stock_price = dataset_test.iloc[:, 1:2].values\n"
      ],
      "metadata": {
        "id": "pIP15IGwHuLP"
      },
      "execution_count": 38,
      "outputs": []
    },
    {
      "cell_type": "markdown",
      "metadata": {
        "id": "GrvrLblxkz42"
      },
      "source": [
        "### Getting the predicted stock price of 2017"
      ]
    },
    {
      "cell_type": "code",
      "source": [
        "dataset_total = pd.concat((dataset_train['Open'], dataset_test['Open']), axis = 0)\n",
        "inputs = dataset_total[len(dataset_total) - len(dataset_test) - 60:].values\n",
        "inputs = inputs.reshape(-1,1)\n",
        "inputs = sc.transform(inputs)\n",
        "X_test = []\n",
        "for i in range(60, 80):\n",
        "    X_test.append(inputs[i-60:i, 0])\n",
        "X_test = np.array(X_test)\n",
        "X_test = np.reshape(X_test, (X_test.shape[0], X_test.shape[1], 1))\n",
        "predicted_stock_price = regressor.predict(X_test)\n",
        "predicted_stock_price = sc.inverse_transform(predicted_stock_price)"
      ],
      "metadata": {
        "id": "CjGRWSBlIs27"
      },
      "execution_count": 46,
      "outputs": []
    },
    {
      "cell_type": "markdown",
      "metadata": {
        "id": "iFTNs3YHk6FQ"
      },
      "source": [
        "### Visualising the results"
      ]
    },
    {
      "cell_type": "code",
      "source": [
        "plt.plot(real_stock_price, color = 'red', label = 'Real Google stock price')\n",
        "\n",
        "plt.plot(predicted_stock_price, color = 'blue', label = 'Predicted Google stock price')\n",
        "plt.title('Google stock price prediction')\n",
        "plt.xlabel('time')\n",
        "plt.ylabel('Google stock price')\n",
        "plt.legend()\n",
        "plt.show()"
      ],
      "metadata": {
        "colab": {
          "base_uri": "https://localhost:8080/",
          "height": 295
        },
        "id": "rCekFxn_gIRo",
        "outputId": "9b1d98a3-55b5-435d-d195-4320b00cfb17"
      },
      "execution_count": 48,
      "outputs": [
        {
          "output_type": "display_data",
          "data": {
            "text/plain": [
              "<Figure size 432x288 with 1 Axes>"
            ],
            "image/png": "[encoded data removed]"
          },
          "metadata": {
            "needs_background": "light"
          }
        }
      ]
    },
    {
      "cell_type": "code",
      "source": [
        ""
      ],
      "metadata": {
        "colab": {
          "base_uri": "https://localhost:8080/",
          "height": 282
        },
        "id": "IgERU8nRgIbs",
        "outputId": "84502460-d2b1-481c-ce86-9867007cfe34"
      },
      "execution_count": 41,
      "outputs": [
        {
          "output_type": "execute_result",
          "data": {
            "text/plain": [
              "[<matplotlib.lines.Line2D at 0x7f99d04969d0>]"
            ]
          },
          "metadata": {},
          "execution_count": 41
        },
        {
          "output_type": "display_data",
          "data": {
            "text/plain": [
              "<Figure size 432x288 with 1 Axes>"
            ],
            "image/png": "[encoded data removed]"
          },
          "metadata": {
            "needs_background": "light"
          }
        }
      ]
    },
    {
      "cell_type": "code",
      "source": [
        ""
      ],
      "metadata": {
        "colab": {
          "base_uri": "https://localhost:8080/",
          "height": 312
        },
        "id": "8IEphTUchDbr",
        "outputId": "4610b68c-ccd2-4f56-c130-e6adb74de90f"
      },
      "execution_count": 42,
      "outputs": [
        {
          "output_type": "stream",
          "name": "stderr",
          "text": [
            "No handles with labels found to put in legend.\n"
          ]
        },
        {
          "output_type": "display_data",
          "data": {
            "text/plain": [
              "<Figure size 432x288 with 1 Axes>"
            ],
            "image/png": "[encoded data removed]"
          },
          "metadata": {
            "needs_background": "light"
          }
        }
      ]
    }
  ],
  "metadata": {
    "colab": {
      "collapsed_sections": [],
      "name": "Copy of rnn.ipynb",
      "provenance": []
    },
    "kernelspec": {
      "display_name": "Python 3",
      "name": "python3"
    }
  },
  "nbformat": 4,
  "nbformat_minor": 0
}